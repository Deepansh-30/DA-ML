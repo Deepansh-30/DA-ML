{
 "cells": [
  {
   "cell_type": "code",
   "execution_count": 2,
   "metadata": {},
   "outputs": [
    {
     "name": "stdout",
     "output_type": "stream",
     "text": [
      "Enter a number :- -5\n",
      "The entered number is negative\n"
     ]
    }
   ],
   "source": [
    "#Code for LAB-2\n",
    "n=int(input(\"Enter a number :- \"))\n",
    "if n==0:   #Checking whether the entered number is equal to zero\n",
    "    print(\"The entered number is equal to zero\")\n",
    "elif n>0:  #Checking whether the entered number is positive\n",
    "    print(\"The entered number is positive\")\n",
    "else:      #Checking whether the entered number is negative\n",
    "    print(\"The entered number is negative\")"
   ]
  },
  {
   "cell_type": "code",
   "execution_count": 4,
   "metadata": {},
   "outputs": [
    {
     "name": "stdout",
     "output_type": "stream",
     "text": [
      "Enter the first number:- 21\n",
      "Enter the second number:- 12\n",
      "Enter the third number:- 27\n",
      "The largest number is :- 27\n"
     ]
    }
   ],
   "source": [
    "#Code for LAB-3\n",
    "n1=int(input(\"Enter the first number:- \"))  #Input of first number\n",
    "n2=int(input(\"Enter the second number:- \")) #Input of second number\n",
    "n3=int(input(\"Enter the third number:- \"))  #Input of third number\n",
    "if (n1 >= n2) and (n1 >= n3):    #Comparing of first number with others\n",
    "   largest = n1\n",
    "elif (n2 >= n1) and (n2 >= n3):  #Comparing of second number with others when first number is not largest\n",
    "   largest = n2\n",
    "else:\n",
    "   largest = n3                        #assigning the third number as the largest\n",
    "print(\"The largest number is :-\",largest)#Printing the largest number"
   ]
  },
  {
   "cell_type": "code",
   "execution_count": 5,
   "metadata": {},
   "outputs": [
    {
     "name": "stdout",
     "output_type": "stream",
     "text": [
      "December\n",
      "December - 31\n"
     ]
    }
   ],
   "source": [
    "#Code for LAB-4\n",
    "mon_name = input()               #Taking month as a input\n",
    "if mon_name == \"February\":       #Checking whether the entered month is february or not\n",
    "    print(mon_name,\" - 28/29\")\n",
    "elif mon_name in (\"April\", \"June\", \"September\", \"November\"):                           #Checking whether the entered month is a 30 day month or not\n",
    "    print(mon_name,\"- 30\")\n",
    "elif mon_name in (\"January\", \"March\", \"May\", \"July\", \"August\", \"October\", \"December\"): #Checking whether the entered month is a 30 day month or not\n",
    "    print(mon_name,\"- 31\")\n",
    "else:\n",
    "    print(\"Wrong month name\")"
   ]
  },
  {
   "cell_type": "code",
   "execution_count": 6,
   "metadata": {},
   "outputs": [
    {
     "name": "stdout",
     "output_type": "stream",
     "text": [
      "Enter a Number: 5\n",
      "Factorial of 5 is:  120\n"
     ]
    }
   ],
   "source": [
    "#Code for LAB-5\n",
    "def fact(num):                       #defining a recursive function for finding factorial.\n",
    "    if num == 1:                     #checking the base condition\n",
    "        return num                   \n",
    "    else:\n",
    "        return num * fact(num - 1)   #returning the recursive statement for factorial.\n",
    "n = int(input(\"Enter a Number: \"))   #taking n as input.\n",
    "if n < 0:\n",
    "    print(\"Enter a positive number\")\n",
    "elif n == 0:\n",
    "    print(\"Factorial of 0 is 1\")\n",
    "else:\n",
    "    print(\"Factorial of\", n, \"is: \", fact(n))"
   ]
  },
  {
   "cell_type": "code",
   "execution_count": null,
   "metadata": {},
   "outputs": [],
   "source": [
    "#Code for LAB-6\n",
    "n=int(input(\"Enter the number of email addresses you will enter\"))\n",
    "lst=[]                #taking list to store each element\n",
    "for i in range(0, n): \n",
    "    ele = input() \n",
    "    lst.append(ele)   #appending elements to the list\n",
    "stu=0\n",
    "prof=0\n",
    "num=len(lst)\n",
    "for i in range(0,num):\n",
    "    dom= lst[i][-20:]\n",
    "    domp=lst[i][-17:]\n",
    "    if dom == \"@student.college.edu\": #checking if the mail address ends with this string\n",
    "        stu=stu+1     \n",
    "    if domp == \"@prof.college.edu\":  #here also checking if the mail address ends with this string\n",
    "        prof=prof+1\n",
    "if stu == n:\n",
    "    print(\"All the entered email addresses were of the students\")\n",
    "else:\n",
    "    print(stu,\" email address were of students and \",prof,\" email address were of professor\")\n"
   ]
  },
  {
   "cell_type": "code",
   "execution_count": 7,
   "metadata": {},
   "outputs": [
    {
     "name": "stdout",
     "output_type": "stream",
     "text": [
      "education,literacy,coding,brotherhood\n",
      "brotherhood,coding,education,literacy"
     ]
    }
   ],
   "source": [
    "#Code for LAB-7\n",
    "string = input().split(',')   #taking a string as input\n",
    "l = list(string)\n",
    "l_1 = len(l)\n",
    "\n",
    "y = sorted(l)                #sorting using pre-defined function\n",
    "l = y\n",
    "\n",
    "for i in range (l_1):        \n",
    "    if i == l_1-1:\n",
    "        print(l[i],end=\"\")\n",
    "    else:\n",
    "        print(l[i],end=\",\")"
   ]
  },
  {
   "cell_type": "code",
   "execution_count": 10,
   "metadata": {},
   "outputs": [
    {
     "name": "stdout",
     "output_type": "stream",
     "text": [
      "Employee :-  Deepansh's  salary is :  50000\n",
      "Employee :-  Eshaan's  salary is :  9000\n"
     ]
    }
   ],
   "source": [
    "#Code for LAB-8\n",
    "def showEmployee(name, salary=9000):  #defining a fuction named ShowEmployee and setting default value of salary=9000\n",
    "    print(\"Employee :- \", name, \" salary is : \", salary) #printing Employee's name and salary\n",
    "\n",
    "showEmployee(\"Deepansh's\", 50000)\n",
    "showEmployee(\"Eshaan's\")"
   ]
  },
  {
   "cell_type": "code",
   "execution_count": 12,
   "metadata": {},
   "outputs": [
    {
     "name": "stdout",
     "output_type": "stream",
     "text": [
      "85\n"
     ]
    }
   ],
   "source": [
    "#code for LAB-9\n",
    "def outerFunc(a, b): #defining a function for performing addition of 5\n",
    "    def innerFunc(a,b): #defining a function to add two numbers\n",
    "        return a+b\n",
    "    add = innerFunc(a, b)\n",
    "    return add+5\n",
    "result = outerFunc(26, 54)\n",
    "print(result)  #printing the result"
   ]
  },
  {
   "cell_type": "code",
   "execution_count": 13,
   "metadata": {},
   "outputs": [
    {
     "name": "stdout",
     "output_type": "stream",
     "text": [
      "Enter name :- Deepansh\n",
      "Enter age :- 20\n",
      "Deepansh 20\n",
      "Deepansh 20\n"
     ]
    }
   ],
   "source": [
    "#Code for LAB-10\n",
    "def displayStudent(name, age): #defining a function for printing name and age\n",
    "    print(name, age)\n",
    "name=input(\"Enter name :- \")\n",
    "age=int(input(\"Enter age :- \"))\n",
    "displayStudent(name,age)\n",
    "\n",
    "showStudent = displayStudent #assigning the function a new name \n",
    "showStudent(name,age)        #calling the function using the new name"
   ]
  },
  {
   "cell_type": "code",
   "execution_count": 15,
   "metadata": {},
   "outputs": [
    {
     "name": "stdout",
     "output_type": "stream",
     "text": [
      "Enter a phone number :- 914-709-9137\n",
      "Valid\n"
     ]
    }
   ],
   "source": [
    "#Code for LAB-11\n",
    "num=input(\"Enter a phone number :- \") \n",
    "n=len(num)   #finding length of phone number\n",
    "if n==12:\n",
    "    if num[0:3].isnumeric() and num[4:7].isnumeric() and num[8:].isnumeric and int(ord(num[3]))==45 and int(ord(num[7]))==45:  #checking for conditions\n",
    "        print(\"Valid\")\n",
    "    else:\n",
    "        print(\"Invalid\")\n",
    "elif n==14:\n",
    "    if int(ord(num[0]))==49 and int(ord(num[1]))==45 and int(ord(num[5]))==45 and int(ord(num[9]))==45 and num[2:5].isnumeric() and num[6:9].isnumeric() and num[10:].isnumeric(): #cheching for other conditions\n",
    "        print(\"Valid\")\n",
    "    else:\n",
    "        print(\"Invalid\")\n",
    "else:\n",
    "    print(\"Invalid\")"
   ]
  },
  {
   "cell_type": "code",
   "execution_count": null,
   "metadata": {},
   "outputs": [],
   "source": []
  }
 ],
 "metadata": {
  "kernelspec": {
   "display_name": "Python 3",
   "language": "python",
   "name": "python3"
  },
  "language_info": {
   "codemirror_mode": {
    "name": "ipython",
    "version": 3
   },
   "file_extension": ".py",
   "mimetype": "text/x-python",
   "name": "python",
   "nbconvert_exporter": "python",
   "pygments_lexer": "ipython3",
   "version": "3.7.1"
  }
 },
 "nbformat": 4,
 "nbformat_minor": 2
}
