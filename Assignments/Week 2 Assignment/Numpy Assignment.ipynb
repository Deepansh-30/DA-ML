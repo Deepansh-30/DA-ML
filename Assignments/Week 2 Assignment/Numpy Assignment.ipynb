{
 "cells": [
  {
   "cell_type": "code",
   "execution_count": 1,
   "metadata": {},
   "outputs": [],
   "source": [
    "#Ques 1\n",
    "import numpy as np"
   ]
  },
  {
   "cell_type": "code",
   "execution_count": 2,
   "metadata": {},
   "outputs": [
    {
     "name": "stdout",
     "output_type": "stream",
     "text": [
      "[0. 0. 0. 0. 0. 0. 0. 0. 0. 0. 0. 0. 0. 0. 0. 0. 0. 0. 0. 0.]\n"
     ]
    }
   ],
   "source": [
    "#Ques 2\n",
    "arr = np.zeros(20)\n",
    "print(arr)"
   ]
  },
  {
   "cell_type": "code",
   "execution_count": 3,
   "metadata": {},
   "outputs": [
    {
     "name": "stdout",
     "output_type": "stream",
     "text": [
      "[1. 1. 1. 1. 1. 1. 1. 1. 1. 1. 1. 1. 1. 1. 1. 1. 1. 1. 1. 1.]\n"
     ]
    }
   ],
   "source": [
    "#Ques 3\n",
    "arr = np.ones(20)\n",
    "print(arr)"
   ]
  },
  {
   "cell_type": "code",
   "execution_count": 4,
   "metadata": {},
   "outputs": [
    {
     "name": "stdout",
     "output_type": "stream",
     "text": [
      "[[ True  True  True  True]\n",
      " [ True  True  True  True]\n",
      " [ True  True False  True]]\n"
     ]
    }
   ],
   "source": [
    "#Ques 4\n",
    "arr=np.array([[1, ' ','none',10],['hi', 23,True,' '],[' ',4,False,3]],dtype='bool')\n",
    "print(arr)"
   ]
  },
  {
   "cell_type": "code",
   "execution_count": 5,
   "metadata": {},
   "outputs": [
    {
     "name": "stdout",
     "output_type": "stream",
     "text": [
      "[100. 101. 102. 103. 104. 105. 106. 107. 108. 109. 110. 111. 112. 113.\n",
      " 114. 115. 116. 117. 118. 119. 120. 121. 122. 123. 124. 125. 126. 127.\n",
      " 128. 129. 130. 131. 132. 133. 134. 135. 136. 137. 138. 139. 140. 141.\n",
      " 142. 143. 144. 145. 146. 147. 148. 149. 150. 151. 152. 153. 154. 155.\n",
      " 156. 157. 158. 159. 160. 161. 162. 163. 164. 165. 166. 167. 168. 169.\n",
      " 170. 171. 172. 173. 174. 175. 176. 177. 178. 179. 180. 181. 182. 183.\n",
      " 184. 185. 186. 187. 188. 189. 190. 191. 192. 193. 194. 195. 196. 197.\n",
      " 198. 199.]\n"
     ]
    }
   ],
   "source": [
    "#Ques 5\n",
    "arr = np.arange(100,200,dtype='float64')\n",
    "print(arr)"
   ]
  },
  {
   "cell_type": "code",
   "execution_count": 6,
   "metadata": {},
   "outputs": [
    {
     "name": "stdout",
     "output_type": "stream",
     "text": [
      "[0.   0.25 0.5  0.75 1.  ]\n"
     ]
    }
   ],
   "source": [
    "#Ques 6\n",
    "arr = np.linspace(0,1,5)\n",
    "print(arr)"
   ]
  },
  {
   "cell_type": "code",
   "execution_count": 7,
   "metadata": {},
   "outputs": [
    {
     "name": "stdout",
     "output_type": "stream",
     "text": [
      "[0 1 2 3 4 5 6 7 8 9]\n"
     ]
    }
   ],
   "source": [
    "#Ques 7\n",
    "myarray = np.array([9, 8, 7, 6, 5, 4, 3, 2, 1, 0])\n",
    "newarray = myarray[::-1]\n",
    "print(newarray)"
   ]
  },
  {
   "cell_type": "code",
   "execution_count": 8,
   "metadata": {},
   "outputs": [
    {
     "name": "stdout",
     "output_type": "stream",
     "text": [
      "(array([0, 1, 3, 5, 6, 8], dtype=int64),)\n"
     ]
    }
   ],
   "source": [
    "#Ques 8\n",
    "arr=np.array([12,34,0,4,0,2,3,0,123])\n",
    "print(np.where(arr>0))"
   ]
  },
  {
   "cell_type": "code",
   "execution_count": 9,
   "metadata": {},
   "outputs": [
    {
     "name": "stdout",
     "output_type": "stream",
     "text": [
      "[ 1 -1  3 -1  5 -1  7 -1  9 -1 11 -1 13 -1]\n"
     ]
    }
   ],
   "source": [
    "#Ques 9\n",
    "arr = np.array([1,2,3,4,5,6,7,8,9,10,11,12,13,14])\n",
    "z=np.where(arr%2==0, -1, arr)\n",
    "print(z)"
   ]
  },
  {
   "cell_type": "code",
   "execution_count": 10,
   "metadata": {},
   "outputs": [
    {
     "name": "stdout",
     "output_type": "stream",
     "text": [
      "[-1  2 -1  4 -1  6 -1  8 -1 10 -1 12 -1 14]\n"
     ]
    }
   ],
   "source": [
    "#Ques 10\n",
    "arr = np.array([1,2,3,4,5,6,7,8,9,10,11,12,13,14])\n",
    "z = np.where(arr % 2==1 , -1,arr)\n",
    "print(z)"
   ]
  },
  {
   "cell_type": "code",
   "execution_count": 11,
   "metadata": {},
   "outputs": [
    {
     "name": "stdout",
     "output_type": "stream",
     "text": [
      "[[192 200 171]\n",
      " [121 220 285]\n",
      " [235 275 200]\n",
      " [184 192 227]\n",
      " [136 232 217]]\n",
      "121 285\n"
     ]
    }
   ],
   "source": [
    "#Ques 11\n",
    "r = np.random.randint(100,300,size=(5,3))\n",
    "print(r)\n",
    "print(np.min(r), np.max(r))"
   ]
  },
  {
   "cell_type": "code",
   "execution_count": 12,
   "metadata": {},
   "outputs": [
    {
     "name": "stdout",
     "output_type": "stream",
     "text": [
      "[0.73665121 0.25771976 0.78660233 0.02512459 0.90178493 0.11693557\n",
      " 0.85852264 0.376195   0.97167247 0.6433985  0.85278986 0.50293561\n",
      " 0.85356674 0.40217365 0.91816751 0.99960523 0.60804215 0.17373532\n",
      " 0.72870392 0.89696564 0.10208323 0.11170264 0.87262231 0.373118\n",
      " 0.68147522 0.75999775 0.7006787  0.06384992 0.69637829 0.12073912]\n",
      "0.5697979267535073\n"
     ]
    }
   ],
   "source": [
    "#Ques 12\n",
    "arr= np.random.random(30)\n",
    "print(arr)\n",
    "mean = arr.mean()\n",
    "print (mean)"
   ]
  },
  {
   "cell_type": "code",
   "execution_count": 13,
   "metadata": {},
   "outputs": [
    {
     "data": {
      "text/plain": [
       "False"
      ]
     },
     "execution_count": 13,
     "metadata": {},
     "output_type": "execute_result"
    }
   ],
   "source": [
    "#Ques 17\n",
    "False"
   ]
  },
  {
   "cell_type": "code",
   "execution_count": 14,
   "metadata": {},
   "outputs": [
    {
     "name": "stdout",
     "output_type": "stream",
     "text": [
      "[[0.09875069 0.66618004 0.44023928 0.33650446 0.97432662]\n",
      " [0.70280501 0.46615807 0.49912187 0.26217684 0.27274916]\n",
      " [0.07741303 1.         0.         0.0466846  0.31804208]\n",
      " [0.94258552 0.69215893 0.75944591 0.37092518 0.27978001]\n",
      " [0.93676174 0.40870413 0.25979418 0.95412226 0.5038597 ]]\n"
     ]
    }
   ],
   "source": [
    "#Ques 18\n",
    "Z = np.random.random((5,5))\n",
    "Zmax, Zmin = np.max(Z), np.min(Z)\n",
    "Z= (Z-Zmin)/(Zmax-Zmin)\n",
    "print (Z)"
   ]
  },
  {
   "cell_type": "code",
   "execution_count": 15,
   "metadata": {},
   "outputs": [
    {
     "name": "stdout",
     "output_type": "stream",
     "text": [
      "[[3. 3.]\n",
      " [3. 3.]\n",
      " [3. 3.]\n",
      " [3. 3.]\n",
      " [3. 3.]]\n"
     ]
    }
   ],
   "source": [
    "#Ques 19\n",
    "a=np.ones((5,3))\n",
    "b=np.ones((3,2))\n",
    "arr=np.dot(a,b)\n",
    "print(arr)"
   ]
  },
  {
   "cell_type": "code",
   "execution_count": 17,
   "metadata": {},
   "outputs": [
    {
     "name": "stdout",
     "output_type": "stream",
     "text": [
      "[ 4 35]\n"
     ]
    }
   ],
   "source": [
    "#Ques 20\n",
    "a= np.array([1, 4 ,8,35,6])\n",
    "b= np.array([35,4])\n",
    "print(np.intersect1d(a,b))"
   ]
  },
  {
   "cell_type": "code",
   "execution_count": 18,
   "metadata": {},
   "outputs": [
    {
     "name": "stdout",
     "output_type": "stream",
     "text": [
      "Yestraday:  2020-05-27\n",
      "Today:  2020-05-28\n",
      "Tomorrow:  2020-05-29\n"
     ]
    }
   ],
   "source": [
    "#Ques 21\n",
    "y = np.datetime64('today', 'D') - np.timedelta64(1, 'D')\n",
    "print(\"Yestraday: \",y)\n",
    "t = np.datetime64('today', 'D')\n",
    "print(\"Today: \",t)\n",
    "to = np.datetime64('today', 'D') + np.timedelta64(1, 'D')\n",
    "print(\"Tomorrow: \",to)"
   ]
  },
  {
   "cell_type": "code",
   "execution_count": 19,
   "metadata": {},
   "outputs": [
    {
     "name": "stdout",
     "output_type": "stream",
     "text": [
      "July, 2016\n",
      "['2016-07-01' '2016-07-02' '2016-07-03' '2016-07-04' '2016-07-05'\n",
      " '2016-07-06' '2016-07-07' '2016-07-08' '2016-07-09' '2016-07-10'\n",
      " '2016-07-11' '2016-07-12' '2016-07-13' '2016-07-14' '2016-07-15'\n",
      " '2016-07-16' '2016-07-17' '2016-07-18' '2016-07-19' '2016-07-20'\n",
      " '2016-07-21' '2016-07-22' '2016-07-23' '2016-07-24' '2016-07-25'\n",
      " '2016-07-26' '2016-07-27' '2016-07-28' '2016-07-29' '2016-07-30'\n",
      " '2016-07-31']\n"
     ]
    }
   ],
   "source": [
    "#Ques 22\n",
    "print(\"July, 2016\")\n",
    "print(np.arange('2016-07', '2016-08', dtype='datetime64[D]'))"
   ]
  },
  {
   "cell_type": "code",
   "execution_count": 20,
   "metadata": {},
   "outputs": [
    {
     "data": {
      "text/plain": [
       "array([  1,   2,   5, 666, 123])"
      ]
     },
     "execution_count": 20,
     "metadata": {},
     "output_type": "execute_result"
    }
   ],
   "source": [
    "#Ques 23\n",
    "Z = np.array([1.234,2.345,5.678,666.543,123.99])\n",
    "n=Z.astype(int)\n",
    "n"
   ]
  },
  {
   "cell_type": "code",
   "execution_count": 21,
   "metadata": {},
   "outputs": [
    {
     "name": "stdout",
     "output_type": "stream",
     "text": [
      "[[ 2  3  4  5  6]\n",
      " [ 7  8  9 10 11]\n",
      " [12 13 14 15 16]\n",
      " [17 18 19 20 21]]\n"
     ]
    }
   ],
   "source": [
    "#Ques 24\n",
    "arr = np.arange(2,22)\n",
    "print(arr.reshape(4,5))"
   ]
  },
  {
   "cell_type": "code",
   "execution_count": 22,
   "metadata": {},
   "outputs": [
    {
     "name": "stdout",
     "output_type": "stream",
     "text": [
      "[[0 1 2 3 4]\n",
      " [5 6 7 8 9]]\n"
     ]
    }
   ],
   "source": [
    "#Ques 25\n",
    "ar1=np.arange(5)\n",
    "ar2=np.arange(5,10)\n",
    "print(np.vstack([ar1,ar2]))"
   ]
  },
  {
   "cell_type": "code",
   "execution_count": 25,
   "metadata": {},
   "outputs": [
    {
     "name": "stdout",
     "output_type": "stream",
     "text": [
      "[0 1 2 3 4 5 6 7 8 9]\n"
     ]
    }
   ],
   "source": [
    "#Ques 26\n",
    "ar1=np.arange(5)\n",
    "ar2=np.arange(5,10)\n",
    "print(np.hstack([ar1,ar2]))"
   ]
  },
  {
   "cell_type": "code",
   "execution_count": 26,
   "metadata": {},
   "outputs": [
    {
     "name": "stdout",
     "output_type": "stream",
     "text": [
      "[[1 2 3]\n",
      " [4 5 6]\n",
      " [7 8 9]]\n",
      "[[10 11 12]\n",
      " [13 14 15]\n",
      " [16 17 18]]\n",
      "After stacking\n",
      "[[ 1  2  3 11 12]\n",
      " [ 4  5  6 14 15]\n",
      " [ 7  8  9 17 18]]\n"
     ]
    }
   ],
   "source": [
    "#Ques 27\n",
    "x = np.arange(1,10).reshape(3,3)\n",
    "print(x)\n",
    "y = np.arange(10,19).reshape(3,3)\n",
    "print(y)\n",
    "print(\"After stacking\")\n",
    "print(np.hstack((x,y[ : ,-2: ])))"
   ]
  },
  {
   "cell_type": "code",
   "execution_count": 27,
   "metadata": {},
   "outputs": [
    {
     "name": "stdout",
     "output_type": "stream",
     "text": [
      "[[ 0  1  2  3]\n",
      " [ 4  5  6  7]\n",
      " [ 8  9 10 11]\n",
      " [12 13 14 15]]\n",
      "[[ 0  3  2  1]\n",
      " [ 4  7  6  5]\n",
      " [ 8 11 10  9]\n",
      " [12 15 14 13]]\n"
     ]
    }
   ],
   "source": [
    "#Ques 28\n",
    "arr= np.arange(16).reshape(4,4)\n",
    "print(arr)\n",
    "arr[:,[1,3]] = arr[:,[3,1]]\n",
    "print(arr)"
   ]
  },
  {
   "cell_type": "code",
   "execution_count": 28,
   "metadata": {},
   "outputs": [
    {
     "name": "stdout",
     "output_type": "stream",
     "text": [
      "[[ 0  1  2  3]\n",
      " [ 4  5  6  7]\n",
      " [ 8  9 10 11]\n",
      " [12 13 14 15]]\n",
      "[[ 0  1  2  3]\n",
      " [12 13 14 15]\n",
      " [ 8  9 10 11]\n",
      " [ 4  5  6  7]]\n"
     ]
    }
   ],
   "source": [
    "#Ques 29\n",
    "sr = np.arange(16).reshape(4,4)\n",
    "print(sr)\n",
    "sr[[1,3]] = sr[[3,1]]\n",
    "print(sr)"
   ]
  },
  {
   "cell_type": "code",
   "execution_count": null,
   "metadata": {},
   "outputs": [],
   "source": []
  }
 ],
 "metadata": {
  "kernelspec": {
   "display_name": "Python 3",
   "language": "python",
   "name": "python3"
  },
  "language_info": {
   "codemirror_mode": {
    "name": "ipython",
    "version": 3
   },
   "file_extension": ".py",
   "mimetype": "text/x-python",
   "name": "python",
   "nbconvert_exporter": "python",
   "pygments_lexer": "ipython3",
   "version": "3.7.1"
  }
 },
 "nbformat": 4,
 "nbformat_minor": 2
}
